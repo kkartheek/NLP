{
  "nbformat": 4,
  "nbformat_minor": 0,
  "metadata": {
    "colab": {
      "name": "assignment 13a.ipynb",
      "provenance": []
    },
    "kernelspec": {
      "name": "python3",
      "display_name": "Python 3"
    }
  },
  "cells": [
    {
      "cell_type": "markdown",
      "metadata": {
        "id": "hFV07lfMCkjG"
      },
      "source": [
        "## Create a Polygon Class:\n",
        "where initializer takes in:\n",
        "number of edges/vertices\n",
        "circumradius\n",
        "that can provide these properties:\n",
        "edges\n",
        "vertices\n",
        "interior angle\n",
        "edge length\n",
        "apothem\n",
        "area\n",
        "perimeter\n",
        "that has these functionalities:\n",
        "a proper __repr__ function\n",
        "implements equality (==) based on # vertices and circumradius (__eq__)\n",
        "implements > based on number of vertices only (__gt__)"
      ]
    },
    {
      "cell_type": "code",
      "metadata": {
        "id": "M8WwbZkYCv0B"
      },
      "source": [
        "import math\n",
        "class Polygon:\n",
        "  def __init__(self,edges,radius):\n",
        "    self.edges = edges\n",
        "    self.vertices = edges\n",
        "    self.radius = radius\n",
        "\n",
        "  def getEdges(self):\n",
        "    return self.edges\n",
        "  \n",
        "  def getVertices(self):\n",
        "    return self.vertices\n",
        "\n",
        "  def getRadius(self):\n",
        "    return self.radius\n",
        "\n",
        "  def getInteriorAngle(self):\n",
        "    return (self.vertices-2)*(180/math.pi)\n",
        "  \n",
        "  def getEdgeLen(self):\n",
        "    return 2*self.radius*math.sin(180/math.pi)\n",
        "\n",
        "  def getApothem(self):\n",
        "    return self.radius*math.cos(180/math.pi)\n",
        "\n",
        "  def getArea(self):\n",
        "    return 0.5*self.vertices*self.getEdgeLen()*self.getApothem()\n",
        "\n",
        "  def getPerimeter(self):\n",
        "    return self.vertices*self.getEdgeLen()\n",
        "\n",
        "  def __repr__(self):\n",
        "    string =  f\"Edges : {self.getEdges()} , Vertices :{ self.vertices} , Radius : {self.radius} \\n\"\n",
        "    return string\n",
        "\n",
        "  def __eq__(self,rhs):\n",
        "    if isinstance(rhs,Polygon):\n",
        "      return self.vertices == rhs.getVertices()\n",
        "    else :\n",
        "      return False\n",
        "\n",
        "  def __gt__(self,rhs):\n",
        "    if isinstance(rhs,Polygon):\n",
        "      return self.vertices > rhs.getVertices()\n",
        "    else :\n",
        "      return False\n",
        "    \n",
        "\n"
      ],
      "execution_count": 8,
      "outputs": []
    },
    {
      "cell_type": "code",
      "metadata": {
        "id": "m_px2HOoHZV9",
        "outputId": "f3337d23-f41e-4924-f37a-b47691b7ad8e",
        "colab": {
          "base_uri": "https://localhost:8080/"
        }
      },
      "source": [
        "p = Polygon(3,3)\n",
        "print(f\"Number of edges {p.getEdges()}\")\n",
        "print(f\"Number of vertices {p.getVertices()}\")\n",
        "print(f\"Radius {p.getRadius()}\")\n",
        "print(f\"Interior angle {p.getInteriorAngle()}\")\n",
        "print(f\"Edge length {p.getEdgeLen()}\")\n",
        "print(f\"Area {p.getArea()}\")\n",
        "print(f\"Perimeter {p.getPerimeter()}\")\n",
        "\n",
        "p1 = Polygon(4,4)\n",
        "print(p1)\n",
        "print(f\"equal {p1==p}\")\n",
        "print(f\"greater {p1>p}\")\n"
      ],
      "execution_count": 9,
      "outputs": [
        {
          "output_type": "stream",
          "text": [
            "Number of edges 3\n",
            "Number of vertices 3\n",
            "Radius 3\n",
            "Interior angle 57.29577951308232\n",
            "Edge length 4.077135710108276\n",
            "Area 13.460441396311287\n",
            "Perimeter 12.231407130324829\n",
            "Edges : 4 , Vertices :4 , Radius : 4 \n",
            "\n",
            "equal False\n",
            "greater True\n"
          ],
          "name": "stdout"
        }
      ]
    }
  ]
}