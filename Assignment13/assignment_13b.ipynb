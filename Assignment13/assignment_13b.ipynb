{
  "nbformat": 4,
  "nbformat_minor": 0,
  "metadata": {
    "colab": {
      "name": "assignment 13b.ipynb",
      "provenance": []
    },
    "kernelspec": {
      "name": "python3",
      "display_name": "Python 3"
    }
  },
  "cells": [
    {
      "cell_type": "markdown",
      "metadata": {
        "id": "hFV07lfMCkjG"
      },
      "source": [
        "## Create a Polygon Class:\n",
        "Implement a Custom Polygon sequence type:\n",
        "where initializer takes in:\n",
        "number of vertices for largest polygon in the sequence\n",
        "common circumradius for all polygons\n",
        "that can provide these properties:\n",
        "max efficiency polygon: returns the Polygon with the highest area: perimeter ratio\n",
        "that has these functionalities:\n",
        "functions as a sequence type (__getitem__)\n",
        "supports the len() function (__len__)\n",
        "has a proper representation (__repr__)"
      ]
    },
    {
      "cell_type": "code",
      "metadata": {
        "id": "M8WwbZkYCv0B"
      },
      "source": [
        "import math\n",
        "class Polygon:\n",
        "  def __init__(self,edges,radius):\n",
        "    self.edges = edges\n",
        "    self.vertices = edges\n",
        "    self.radius = radius\n",
        "    self.maxl =  [ self.getAreai(i) for i in range(3,self.vertices,1) ]\n",
        "\n",
        "  def getEdges(self):\n",
        "    return self.edges\n",
        "  \n",
        "  def getVertices(self):\n",
        "    return self.vertices\n",
        "\n",
        "  def getRadius(self):\n",
        "    return self.radius\n",
        "\n",
        "  def getInteriorAngle(self):\n",
        "    return (self.vertices-2)*(180/math.pi)\n",
        "  \n",
        "  def getEdgeLen(self):\n",
        "    return 2*self.radius*math.sin(180/math.pi)\n",
        "\n",
        "  def getApothem(self):\n",
        "    return self.radius*math.cos(180/math.pi)\n",
        "\n",
        "  def getAreai(self,vertices):\n",
        "    return 0.5*vertices*self.getEdgeLen()*self.getApothem()\n",
        "\n",
        "  def getArea(self):\n",
        "    return 0.5*self.vertices*self.getEdgeLen()*self.getApothem()\n",
        "\n",
        "  def getPerimeter(self):\n",
        "    return self.vertices*self.getEdgeLen()\n",
        "\n",
        "  def getMaxEfficiencyPolygon(self):\n",
        "    maxe = 0\n",
        "    for i in range(self.__len__()):\n",
        "      \n",
        "      if maxe < self.__getitem__(i):\n",
        "        maxe = self.__getitem__(i)\n",
        "       \n",
        "    return maxe\n",
        "\n",
        "  def __repr__(self):\n",
        "    string =  f\"Edges : {self.getEdges()} , Vertices :{ self.vertices} , Radius : {self.radius} \\n \" +  f\"area list : {self.maxl} \"\n",
        "    return string\n",
        "\n",
        "  def __eq__(self,rhs):\n",
        "    if isinstance(rhs,Polygon):\n",
        "      return self.vertices == rhs.getVertices()\n",
        "    else :\n",
        "      return False\n",
        "\n",
        "  def __gt__(self,rhs):\n",
        "    if isinstance(rhs,Polygon):\n",
        "      return self.vertices > rhs.getVertices()\n",
        "    else :\n",
        "      return False\n",
        "\n",
        "  def __getitem__(self,idx):\n",
        "    return self.maxl[idx]\n",
        "\n",
        "  def __len__(self):\n",
        "    return len(self.maxl)\n",
        "    \n",
        "\n"
      ],
      "execution_count": 35,
      "outputs": []
    },
    {
      "cell_type": "code",
      "metadata": {
        "id": "m_px2HOoHZV9",
        "outputId": "95028ea9-6328-42cf-e2af-a3c74c4e71ea",
        "colab": {
          "base_uri": "https://localhost:8080/"
        }
      },
      "source": [
        "p = Polygon(3,3)\n",
        "print(f\"Number of edges {p.getEdges()}\")\n",
        "print(f\"Number of vertices {p.getVertices()}\")\n",
        "print(f\"Radius {p.getRadius()}\")\n",
        "print(f\"Interior angle {p.getInteriorAngle()}\")\n",
        "print(f\"Edge length {p.getEdgeLen()}\")\n",
        "print(f\"Area {p.getArea()}\")\n",
        "print(f\"Perimeter {p.getPerimeter()}\")\n",
        "\n",
        "p1 = Polygon(6,4)\n",
        "print(p1)\n",
        "print(f\"equal {p1==p}\")\n",
        "print(f\"greater {p1>p}\")\n",
        "print(p1.getMaxEfficiencyPolygon())\n"
      ],
      "execution_count": 36,
      "outputs": [
        {
          "output_type": "stream",
          "text": [
            "Number of edges 3\n",
            "Number of vertices 3\n",
            "Radius 3\n",
            "Interior angle 57.29577951308232\n",
            "Edge length 4.077135710108276\n",
            "Area 13.460441396311287\n",
            "Perimeter 12.231407130324829\n",
            "Edges : 6 , Vertices :6 , Radius : 4 \n",
            " area list : [23.92967359344229, 31.906231457923052, 39.882789322403816] \n",
            "equal False\n",
            "greater True\n",
            "0 23.92967359344229 0 False\n",
            "1 31.906231457923052 23.92967359344229 False\n",
            "2 39.882789322403816 31.906231457923052 False\n",
            "39.882789322403816\n"
          ],
          "name": "stdout"
        }
      ]
    },
    {
      "cell_type": "code",
      "metadata": {
        "id": "WU3HLHhF2oO9"
      },
      "source": [
        "print(23.92967359344229 > )"
      ],
      "execution_count": null,
      "outputs": []
    }
  ]
}