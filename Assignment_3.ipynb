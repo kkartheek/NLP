{
  "nbformat": 4,
  "nbformat_minor": 0,
  "metadata": {
    "colab": {
      "name": "Assignment 3.ipynb",
      "provenance": [],
      "authorship_tag": "ABX9TyMYLpTFEXBobynibwFBjVJS",
      "include_colab_link": true
    },
    "kernelspec": {
      "name": "python3",
      "display_name": "Python 3"
    }
  },
  "cells": [
    {
      "cell_type": "markdown",
      "metadata": {
        "id": "view-in-github",
        "colab_type": "text"
      },
      "source": [
        "<a href=\"https://colab.research.google.com/github/kkartheek/NLP/blob/main/Assignment_3.ipynb\" target=\"_parent\"><img src=\"https://colab.research.google.com/assets/colab-badge.svg\" alt=\"Open In Colab\"/></a>"
      ]
    },
    {
      "cell_type": "markdown",
      "metadata": {
        "id": "GzDJH2kvBweQ"
      },
      "source": [
        "#Write a function using only list filter lambda that can tell whether a number is a Fibonacci number or not. You can use a pre-calculated list/dict to store fab numbers till 10000"
      ]
    },
    {
      "cell_type": "code",
      "metadata": {
        "id": "t9vJYOGBB7A6"
      },
      "source": [
        "import math\n",
        "import urllib.request"
      ],
      "execution_count": null,
      "outputs": []
    },
    {
      "cell_type": "code",
      "metadata": {
        "id": "lvFQsw0cCD5d",
        "outputId": "024235f7-a58a-43cb-e6d5-dfb4a51de635",
        "colab": {
          "base_uri": "https://localhost:8080/"
        }
      },
      "source": [
        "fib = [0,1,1]\n",
        "[fib.append(fib[i-1]+fib[i-2]) for i in range(3,10000)]\n",
        "x=[]\n",
        "x.append(int(input(\"enter the number \")))\n",
        "print(\"number entered is \",x,type(x))\n",
        "print(\"fib numbers\",fib[:10])\n",
        "find =  -1\n",
        "find = [i for i in fib if i==x]\n",
        "#find1 = list(map(map(lambda a,b: print(a,b),x),fib))\n",
        "print(find)"
      ],
      "execution_count": null,
      "outputs": [
        {
          "output_type": "stream",
          "text": [
            "enter the number 11\n",
            "number entered is  [11] <class 'list'>\n",
            "fib numbers [0, 1, 1, 2, 3, 5, 8, 13, 21, 34]\n",
            "[]\n"
          ],
          "name": "stdout"
        }
      ]
    },
    {
      "cell_type": "markdown",
      "metadata": {
        "id": "ZlGxInnKDxCb"
      },
      "source": [
        "#Using list comprehension (and zip/lambda/etc if required) write five different expressions that: PTS:100\n",
        "add 2 iterables a and b such that a is even and b is odd\n",
        "strips every vowel from a string provided (tsai>>t s)\n",
        "acts like a ReLU function for a 1D array\n",
        "acts like a sigmoid function for a 1D array\n",
        "takes a small character string and shifts all characters by 5 (handle boundary conditions) tsai>>yxfn"
      ]
    },
    {
      "cell_type": "code",
      "metadata": {
        "id": "7mTCjwUlD0h4",
        "outputId": "b4a0cd00-977d-460c-b97f-2669af33ec32",
        "colab": {
          "base_uri": "https://localhost:8080/"
        }
      },
      "source": [
        "tmp = \"kartheekx\"\n",
        "no_oval =  lambda  str: filter(lambda v: v not in {'a','e','i','o','u'},str)\n",
        "print(list(no_oval(tmp)))\n",
        "\n",
        "arr = [0,-1,-4,3,4,5,0.4,-0.001,2000]\n",
        "\n",
        "relu = lambda arr: map(lambda arr: arr if arr > 0 else 0,arr )\n",
        "print(list(relu(arr)))\n",
        "\n",
        "sigmoid = lambda val: list(map(lambda val: 1/(1+math.exp(-val)) , val))\n",
        "print(sigmoid(arr))\n",
        "\n",
        "\n",
        "shift = lambda str: list (map(lambda str: chr(ord(str)+5) if ord(str)+5 < ord('z') else chr(ord('a')+ord(str)+5 - ord('z')-1),str ))\n",
        "print(shift(tmp))"
      ],
      "execution_count": null,
      "outputs": [
        {
          "output_type": "stream",
          "text": [
            "['k', 'r', 't', 'h', 'k', 'x']\n",
            "[0, 0, 0, 3, 4, 5, 0.4, 0, 2000]\n",
            "[0.5, 0.2689414213699951, 0.01798620996209156, 0.9525741268224334, 0.9820137900379085, 0.9933071490757153, 0.598687660112452, 0.4997500000208333, 1.0]\n",
            "['p', 'f', 'w', 'y', 'm', 'j', 'j', 'p', 'c']\n"
          ],
          "name": "stdout"
        }
      ]
    },
    {
      "cell_type": "markdown",
      "metadata": {
        "id": "XzAPRViuEIak"
      },
      "source": [
        "#A list comprehension expression that takes a ~200 word paragraph (write your own paragraph to check), and checks whether it has any of the swear words mentioned in https://github.com/RobertJGabriel/Google-profanity-words/blob/master/list.txt PTS:200"
      ]
    },
    {
      "cell_type": "code",
      "metadata": {
        "id": "lnGPVvCPEO5k",
        "outputId": "2c49c49b-390f-45b6-fa03-a64ad66edf16",
        "colab": {
          "base_uri": "https://localhost:8080/"
        }
      },
      "source": [
        "words_lis = []\n",
        "url =  \"https://raw.githubusercontent.com/RobertJGabriel/Google-profanity-words/master/list.txt\"\n",
        "file = urllib.request.urlopen(url)\n",
        "url1 = \"https://raw.githubusercontent.com/kkartheek/NLP/main/swear_got.txt\"\n",
        "sw_file = urllib.request.urlopen(url1)\n",
        "\n",
        "for line in file:\n",
        "    decoded_line = line.decode(\"utf-8\").split()\n",
        "    words_lis.append(decoded_line[0])\n",
        "   \n",
        "    \n",
        "words_200 = []\n",
        "for line in sw_file:\n",
        "    for word in line.split():\n",
        "        \n",
        "        word = word.decode(\"utf-8\")\n",
        "        \n",
        "        if \",\" in word:\n",
        "            tmp_str = word.split(',')\n",
        "            words_200.append(tmp_str[0])\n",
        "        elif '.' in word:\n",
        "            tmp_str = word.split('.')\n",
        "            words_200.append(tmp_str[0])\n",
        "        elif ':' in word:\n",
        "            tmp_str = word.split(':')\n",
        "            words_200.append(tmp_str[0])\n",
        "        elif '\"' in word:\n",
        "            tmp_str = word.split('\"')\n",
        "            words_200.append(tmp_str[0])\n",
        "        else :\n",
        "            words_200.append(word)\n",
        "swear_words = set(words_lis)\n",
        "found_words = [word for word in words_200 if word in swear_words]\n",
        "\n",
        "print(found_words)\n",
        "\n"
      ],
      "execution_count": null,
      "outputs": [
        {
          "output_type": "stream",
          "text": [
            "['bastard', 'sex']\n"
          ],
          "name": "stdout"
        }
      ]
    },
    {
      "cell_type": "markdown",
      "metadata": {
        "id": "fObnY7UAyrCF"
      },
      "source": [
        "#Using reduce functions: PTS:100\n",
        "#add only even numbers in a list\n",
        "#find the biggest character in a string (printable ascii characters)\n",
        "#adds every 3rd number in a list"
      ]
    },
    {
      "cell_type": "code",
      "metadata": {
        "id": "iwDeBdVSRc4y",
        "outputId": "59569e00-295c-4863-b750-0a3ee5a554b7",
        "colab": {
          "base_uri": "https://localhost:8080/"
        }
      },
      "source": [
        "from functools import reduce\n",
        "lis = [1,2,3,4,5,6,7,8,9,10]\n",
        "evn_sum = reduce(lambda a,b : (a if a%2 ==0 else 0)+(b if b%2==0 else 0),lis)\n",
        "print(evn_sum)\n",
        "lis1 = [2,2,2,2,2,2,2,2]\n",
        "print(reduce(lambda a,b : (a if a%2 ==0 else 0)+(b if b%2==0 else 0),lis1))\n",
        "\n",
        "string =  \"The quick brown fox jumps over the lazy dog >>\" + chr(250)\n",
        "\n",
        "max_char =  reduce(lambda a,b: a if ord(a) > ord(b) else b,string)\n",
        "print(max_char)\n",
        "\n",
        "#3rd_num_sum =  \n",
        "reduce(lambda a,b: 0+a[1] if isinstance(a,tuple) else a+b[1] if b[0]%3==0 else a,enumerate(lis))"
      ],
      "execution_count": 9,
      "outputs": [
        {
          "output_type": "stream",
          "text": [
            "30\n",
            "16\n",
            "ú\n"
          ],
          "name": "stdout"
        },
        {
          "output_type": "execute_result",
          "data": {
            "text/plain": [
              "22"
            ]
          },
          "metadata": {
            "tags": []
          },
          "execution_count": 9
        }
      ]
    },
    {
      "cell_type": "markdown",
      "metadata": {
        "id": "mXv37qEbhUMV"
      },
      "source": [
        "# Using randint, random.choice and list comprehensions, write an expression that generates 15 random KADDAADDDD number plates, where KA is fixed, D stands for a digit, and A stands for Capital alphabets. 10<<DD<<99 & 1000<<DDDD<<9999 PTS:100"
      ]
    },
    {
      "cell_type": "code",
      "metadata": {
        "id": "lNqXvi5hhXoB",
        "outputId": "10aafb8d-51e0-48a6-f488-4322107dbb17",
        "colab": {
          "base_uri": "https://localhost:8080/"
        }
      },
      "source": [
        "from random import randint,choice\n",
        "\n",
        "alpha = [chr(65+i) for i in range(26)]\n",
        "\n",
        "num_plate = [\"KA\" + str(randint(10,99)) + choice(alpha) + choice(alpha) + str(randint(1000,9900)) for i in range (15) ]\n",
        "print(num_plate)"
      ],
      "execution_count": 14,
      "outputs": [
        {
          "output_type": "stream",
          "text": [
            "['KA88CI5579', 'KA12RQ9782', 'KA94XT8122', 'KA73ZA3794', 'KA67MA3294', 'KA19SE1364', 'KA60HU2649', 'KA63NT6690', 'KA59VN2134', 'KA61LW4371', 'KA13SD9883', 'KA13FF2765', 'KA20JH3301', 'KA77SM1416', 'KA45XU3368']\n"
          ],
          "name": "stdout"
        }
      ]
    },
    {
      "cell_type": "markdown",
      "metadata": {
        "id": "JkYj43Hhj1hJ"
      },
      "source": [
        "#Write the above again from scratch where KA can be changed to DL, and 1000/9999 ranges can be provided.  PTS:100"
      ]
    },
    {
      "cell_type": "code",
      "metadata": {
        "id": "dwnzkBJQj3bY",
        "outputId": "44c7f089-8d4e-4bad-bbf9-f1a43244a7d9",
        "colab": {
          "base_uri": "https://localhost:8080/"
        }
      },
      "source": [
        "num_plate = [\"DL\" + str(randint(10,99)) + choice(alpha) + choice(alpha) + str(randint(1000,9900)) for i in range (15) ]\n",
        "print(num_plate)"
      ],
      "execution_count": 15,
      "outputs": [
        {
          "output_type": "stream",
          "text": [
            "['DL29WA4758', 'DL55DC1426', 'DL53OI2041', 'DL86WD1972', 'DL98XD8980', 'DL64XY9649', 'DL21AN8214', 'DL96FW2713', 'DL30CT3315', 'DL93ZT8363', 'DL85NM1005', 'DL43EF9061', 'DL36WI2756', 'DL71AA9834', 'DL67YY4147']\n"
          ],
          "name": "stdout"
        }
      ]
    }
  ]
}